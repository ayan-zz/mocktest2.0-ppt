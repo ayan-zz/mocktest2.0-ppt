{
 "cells": [
  {
   "cell_type": "markdown",
   "id": "f4802dca",
   "metadata": {},
   "source": [
    "#### DSA - Mock Test 2 - Python\n",
    "### Ayan Chowdhury\n",
    "#### FSDS 2.0"
   ]
  },
  {
   "cell_type": "markdown",
   "id": "225efa71",
   "metadata": {},
   "source": [
    "Q1.  Given a non-negative integer x, return the square root of x rounded down to the nearest integer. The returned integer should be non-negative as well. You must not use any built-in exponent function or operator. \n",
    "\n",
    " Example 1:\n",
    "Input: x = 4 Output: 2 Explanation: The square root of 4 is 2, so we return 2.\n",
    "Example 2:\n",
    "\n",
    "Input: x = 8 Output: 2 Explanation: The square root of 8 is 2.82842..., and since we round it down to the nearest integer, 2 is returned.\n",
    "Constraints:\n",
    "\n",
    "0 <= x <= 2^31 - 1\n",
    "\n",
    "Note: Create a GitHub file for the solution and add the file link the the answer section below."
   ]
  },
  {
   "cell_type": "code",
   "execution_count": 6,
   "id": "f13db2a4",
   "metadata": {},
   "outputs": [
    {
     "data": {
      "text/plain": [
       "5"
      ]
     },
     "execution_count": 6,
     "metadata": {},
     "output_type": "execute_result"
    }
   ],
   "source": [
    "def sqrt_num(nums):\n",
    "    if nums<=2:\n",
    "        return nums\n",
    "    low=1\n",
    "    high=nums\n",
    "    while low<=high:\n",
    "        mid=(low+high)//2\n",
    "        if mid*mid==nums:\n",
    "            return mid\n",
    "        else:\n",
    "            if mid*mid<nums:\n",
    "                low=mid+1\n",
    "            else:\n",
    "                high=mid-1\n",
    "    return high\n",
    "\n",
    "\n",
    "\n",
    "sqrt_num(35)"
   ]
  },
  {
   "cell_type": "markdown",
   "id": "f5129c34",
   "metadata": {},
   "source": [
    "Q2.  You are given two non-empty linked lists representing two non-negative integers. The digits are stored in reverse order, and each of their nodes contains a single digit. Add the two numbers and return the sum as a linked list.\n",
    "\n",
    "You may assume the two numbers do not contain any leading zero, except the number 0 itself.\n",
    "\n",
    "\n",
    "Example 1:\n",
    "\n",
    "Input: l1 = [2,4,3], l2 = [5,6,4] Output: [7,0,8] Explanation: 342 + 465 = 807.\n",
    "\n",
    "Example 2:\n",
    "\n",
    "Input: l1 = [0], l2 = [0] Output: [0]\n",
    "\n",
    "Example 3:\n",
    "\n",
    "Input: l1 = [9,9,9,9,9,9,9], l2 = [9,9,9,9] Output: [8,9,9,9,0,0,0,1]\n",
    "\n",
    " \n",
    "\n",
    "Constraints:\n",
    "\n",
    "The number of nodes in each linked list is in the range [1, 100].\n",
    "0 <= Node.val <= 9 It is guaranteed that the list represents a number that does not have leading zeros.\n",
    "\n"
   ]
  },
  {
   "cell_type": "code",
   "execution_count": 9,
   "id": "c28cb81b",
   "metadata": {},
   "outputs": [
    {
     "name": "stdout",
     "output_type": "stream",
     "text": [
      "[7, 0, 8]\n",
      "[8, 9, 9, 9, 0, 0, 0, 1]\n"
     ]
    }
   ],
   "source": [
    "class Lstnode:\n",
    "    def __init__(self, val=0, next=None):\n",
    "        self.val = val\n",
    "        self.next = next\n",
    "\n",
    "def addTwonos(l1, l2):\n",
    "    dummy = Lstnode()  \n",
    "    current = dummy\n",
    "    carry = 0\n",
    "\n",
    "    while l1 or l2:\n",
    "        x = l1.val if l1 else 0\n",
    "        y = l2.val if l2 else 0\n",
    "        \n",
    "        digit_sum = carry + x + y\n",
    "        carry = digit_sum // 10\n",
    "        digit_sum %= 10\n",
    "\n",
    "        current.next = Lstnode(digit_sum)\n",
    "        current = current.next\n",
    "\n",
    "        if l1:\n",
    "            l1 = l1.next\n",
    "        if l2:\n",
    "            l2 = l2.next    \n",
    "    if carry > 0:\n",
    "        current.next = Lstnode(carry)\n",
    "\n",
    "    return dummy.next\n",
    "\n",
    "def createLinkedList(digits):\n",
    "    dummy = Lstnode()\n",
    "    current = dummy\n",
    "    for digit in digits:\n",
    "        current.next = Lstnode(digit)\n",
    "        current = current.next\n",
    "    return dummy.next\n",
    "\n",
    "def linkedListToList(head):\n",
    "    result = []\n",
    "    current = head\n",
    "    while current:\n",
    "        result.append(current.val)\n",
    "        current = current.next\n",
    "    return result\n",
    "\n",
    "\n",
    "l1 = createLinkedList([2, 4, 3])\n",
    "l2 = createLinkedList([5, 6, 4])\n",
    "result = addTwonos(l1, l2)\n",
    "print(linkedListToList(result))  \n",
    "\n",
    "l1 = createLinkedList([9, 9, 9, 9, 9, 9, 9])\n",
    "l2 = createLinkedList([9, 9, 9, 9])\n",
    "result = addTwonos(l1, l2)\n",
    "print(linkedListToList(result))  "
   ]
  }
 ],
 "metadata": {
  "kernelspec": {
   "display_name": "Python 3 (ipykernel)",
   "language": "python",
   "name": "python3"
  },
  "language_info": {
   "codemirror_mode": {
    "name": "ipython",
    "version": 3
   },
   "file_extension": ".py",
   "mimetype": "text/x-python",
   "name": "python",
   "nbconvert_exporter": "python",
   "pygments_lexer": "ipython3",
   "version": "3.9.13"
  }
 },
 "nbformat": 4,
 "nbformat_minor": 5
}
